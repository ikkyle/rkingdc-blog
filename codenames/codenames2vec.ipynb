{
 "cells": [
  {
   "cell_type": "code",
   "execution_count": 16,
   "metadata": {},
   "outputs": [],
   "source": [
    "%matplotlib inline\n",
    "import random\n",
    "\n",
    "import numpy as np\n",
    "from gensim.models import KeyedVectors\n",
    "\n",
    "from matplotlib import pyplot as plt\n",
    "\n",
    "import scipy.cluster.hierarchy as clh"
   ]
  },
  {
   "cell_type": "code",
   "execution_count": 2,
   "metadata": {},
   "outputs": [
    {
     "name": "stdout",
     "output_type": "stream",
     "text": [
      "CPU times: user 33.2 s, sys: 1.62 s, total: 34.8 s\n",
      "Wall time: 35 s\n"
     ]
    }
   ],
   "source": [
    "#modfile = 'data/google-news-vectors-n300.bin.gz'\n",
    "#modfile = 'data/conceptnet.bin.wv'\n",
    "modfile = 'data/fasttext.bin.wv'\n",
    "\n",
    "%time model = KeyedVectors.load_word2vec_format(modfile,binary=True)"
   ]
  },
  {
   "cell_type": "code",
   "execution_count": 17,
   "metadata": {},
   "outputs": [],
   "source": [
    "with open('data/wordlist.txt', 'r') as wf:\n",
    "    codewords = wf.read().splitlines()\n",
    "    \n",
    "codewords = [w for w in codewords if w != '']\n",
    "\n",
    "def create_game(codewords):\n",
    "    board = random.sample(codewords, k=25)\n",
    "    red = random.sample(board, k=8)\n",
    "    blue = random.sample(list(set(board) - set(red)), k=7)\n",
    "    black = random.sample(\n",
    "        list(set(board) - set(blue) - set(red)),\n",
    "        k=1\n",
    "    )\n",
    "    return board, red, blue, black\n",
    "\n",
    "def make_wv_matrix(model, words):\n",
    "    vec = []\n",
    "    for w in words:\n",
    "        vec.append(model[w])\n",
    "    return np.vstack(vec)\n",
    "\n",
    "\n",
    "#a_board = make_wv_matrix(model, board)\n",
    "#a_red = make_wv_matrix(model, red)"
   ]
  },
  {
   "cell_type": "code",
   "execution_count": 18,
   "metadata": {},
   "outputs": [],
   "source": [
    "def leaf_colors(Z, board, red, blue, black):\n",
    "    d = dict()\n",
    "    for i, w in enumerate(board):\n",
    "        if w in red:\n",
    "            d[i] = 'red'\n",
    "        elif w in blue:\n",
    "            d[i] = 'blue'\n",
    "        elif w in black:\n",
    "            d[i] = 'black'\n",
    "        else:\n",
    "            d[i] = '#69695E' # beige\n",
    "    \n",
    "    # notes:\n",
    "    # * rows in Z correspond to \"inverted U\" links that connect clusters\n",
    "    # * rows are ordered by increasing distance\n",
    "    # * if the colors of the connected clusters match, use that color for link\n",
    "    link_cols = {}\n",
    "    for i, i12 in enumerate(Z[:,:2].astype(int)):\n",
    "      c1, c2 = (link_cols[x] if x > len(Z) else d[x] for x in i12)\n",
    "      link_cols[i+1+len(Z)] = c1 if c1 == c2 else '#dbdbdb'\n",
    "\n",
    "    def fx(x):\n",
    "        return link_cols[x]\n",
    "    \n",
    "    return fx\n",
    "\n",
    "def plot_dendo(board, red, blue, black, metric='cosine', use_vecs=False):\n",
    "    \n",
    "    if use_vecs:\n",
    "        dmat = make_wv_matrix(model = model, words = board)\n",
    "    else: \n",
    "        dmat = np.vstack([model.distances(w, board) for w in board])\n",
    "        \n",
    "    clust = clh.linkage(dmat, optimal_ordering=True, metric=metric)\n",
    "    \n",
    "    leaf_color_fx = leaf_colors(Z=clust, board=board, red=red, blue=blue, black=black)\n",
    "    \n",
    "    dg = clh.dendrogram(clust, \n",
    "                        labels = board,\n",
    "                        leaf_rotation=0, \n",
    "                        orientation=\"left\",\n",
    "                       link_color_func = leaf_color_fx)\n",
    "    ax = plt.gca()\n",
    "    lbls = ax.get_ymajorticklabels()\n",
    "\n",
    "    for lbl in lbls:\n",
    "\n",
    "        txt = lbl.get_text()\n",
    "        if txt in red:\n",
    "            lbl.set_color('red')\n",
    "        elif txt in blue:\n",
    "            lbl.set_color('blue')\n",
    "        elif txt in black:\n",
    "            lbl.set_color('black')\n",
    "        else:\n",
    "            lbl.set_color('#69695E')\n",
    "    \n",
    "    return dg\n",
    "\n"
   ]
  },
  {
   "cell_type": "code",
   "execution_count": 19,
   "metadata": {},
   "outputs": [
    {
     "name": "stdout",
     "output_type": "stream",
     "text": [
      "Word \"Loch Ness\" not in vocab\n",
      "Word \"Scuba Diver\" not in vocab\n",
      "Word \"Ice Cream\" not in vocab\n",
      "Word \"New York\" not in vocab\n"
     ]
    }
   ],
   "source": [
    "notfound = []\n",
    "for w in codewords:\n",
    "    try:\n",
    "        model[w]\n",
    "    except KeyError:\n",
    "        notfound.append(w)\n",
    "        print(f'Word \"{w}\" not in vocab')\n",
    "\n",
    "codewords = [w for w in codewords if w not in notfound]\n",
    "game = create_game(codewords)"
   ]
  },
  {
   "cell_type": "code",
   "execution_count": 20,
   "metadata": {},
   "outputs": [
    {
     "data": {
      "image/png": "[encoded data removed]",
      "text/plain": [
       "<Figure size 432x288 with 1 Axes>"
      ]
     },
     "metadata": {
      "needs_background": "light"
     },
     "output_type": "display_data"
    }
   ],
   "source": [
    "game = create_game(codewords)\n",
    "dg = plot_dendo(*game)\n",
    "board, red, blue, black = game"
   ]
  },
  {
   "cell_type": "code",
   "execution_count": 15,
   "metadata": {},
   "outputs": [
    {
     "data": {
      "text/plain": [
       "[('Courts', 0.6997140049934387),\n",
       " ('Hotel-Casino', 0.6959937810897827),\n",
       " ('Resort', 0.6514999866485596),\n",
       " ('Courtside', 0.6513152718544006),\n",
       " ('Hotel', 0.6446125507354736),\n",
       " ('Courtrooms', 0.6200919151306152),\n",
       " ('Courty', 0.6197998523712158),\n",
       " ('Courtroom', 0.6182023882865906),\n",
       " ('Court.', 0.6175816059112549),\n",
       " ('Casinos', 0.6165159940719604)]"
      ]
     },
     "execution_count": 15,
     "metadata": {},
     "output_type": "execute_result"
    }
   ],
   "source": [
    "model.most_similar(positive = ['Court', 'Bar', 'Casino'], negative = black)\n",
    "# this should be able to determine that for getting Bar, court, and casino, we need \n",
    "# not get too close to Table or Server\n",
    "\n",
    "# using positive and negative args is the wrong approach\n",
    "# what we really needs is numerical optimization to find closes words that are furthers away from other specified words. "
   ]
  },
  {
   "cell_type": "code",
   "execution_count": null,
   "metadata": {},
   "outputs": [],
   "source": []
  }
 ],
 "metadata": {
  "kernelspec": {
   "display_name": "codenames",
   "language": "python",
   "name": "codenames"
  },
  "language_info": {
   "codemirror_mode": {
    "name": "ipython",
    "version": 3
   },
   "file_extension": ".py",
   "mimetype": "text/x-python",
   "name": "python",
   "nbconvert_exporter": "python",
   "pygments_lexer": "ipython3",
   "version": "3.6.7"
  }
 },
 "nbformat": 4,
 "nbformat_minor": 2
}
